{
 "cells": [
  {
   "cell_type": "code",
   "execution_count": 4,
   "id": "d3ef81c5",
   "metadata": {},
   "outputs": [],
   "source": [
    "import numpy as np\n",
    "import pandas as pd\n",
    "import matplotlib.pyplot as plt\n",
    "import seaborn as sns"
   ]
  },
  {
   "cell_type": "code",
   "execution_count": null,
   "id": "c61fe029",
   "metadata": {},
   "outputs": [],
   "source": []
  },
  {
   "cell_type": "markdown",
   "id": "8153e112",
   "metadata": {},
   "source": []
  },
  {
   "cell_type": "markdown",
   "id": "9ade8d2b",
   "metadata": {},
   "source": []
  },
  {
   "cell_type": "markdown",
   "id": "78b64f74",
   "metadata": {},
   "source": []
  },
  {
   "cell_type": "markdown",
   "id": "13000b0a",
   "metadata": {},
   "source": []
  }
 ],
 "metadata": {
  "kernelspec": {
   "display_name": "Python 3 (ipykernel)",
   "language": "python",
   "name": "python3"
  },
  "language_info": {
   "codemirror_mode": {
    "name": "ipython",
    "version": 3
   },
   "file_extension": ".py",
   "mimetype": "text/x-python",
   "name": "python",
   "nbconvert_exporter": "python",
   "pygments_lexer": "ipython3",
   "version": "3.9.7"
  }
 },
 "nbformat": 4,
 "nbformat_minor": 5
}
